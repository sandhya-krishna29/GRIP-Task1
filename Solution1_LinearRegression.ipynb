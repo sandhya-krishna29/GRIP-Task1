{
  "cells": [
    {
      "cell_type": "markdown",
      "id": "0bf6c49b",
      "metadata": {
        "id": "0bf6c49b"
      },
      "source": [
        "<h2> THE GRIP FOUNDATION </h2>\n",
        "<h2> Data Science and Business Analytics Internship </h2>\n",
        "<h3> Author : Sandhya Krishna </h3>\n",
        "<h3> Task 1 : Prediction using Supervised ML</h3>"
      ]
    },
    {
      "cell_type": "markdown",
      "id": "9c3266a8",
      "metadata": {
        "id": "9c3266a8"
      },
      "source": [
        "<h4>Task : Predict the percentage of a student based on the number of study hours </h4>\n",
        "<h4>Task data : http://bit.ly/w-data</h4>\n",
        "<h4> IDE Used : Jupyter Notebook </h4>"
      ]
    },
    {
      "cell_type": "markdown",
      "id": "77f10e17",
      "metadata": {
        "id": "77f10e17"
      },
      "source": [
        "Importing the required libraries"
      ]
    },
    {
      "cell_type": "code",
      "execution_count": null,
      "id": "48bfae5a",
      "metadata": {
        "id": "48bfae5a"
      },
      "outputs": [],
      "source": [
        "import pandas as pd\n",
        "import numpy as np\n",
        "import matplotlib.pyplot as plt\n",
        "%matplotlib inline\n",
        "from sklearn.linear_model import LinearRegression\n",
        "from sklearn.metrics import mean_absolute_error"
      ]
    },
    {
      "cell_type": "markdown",
      "id": "709d80be",
      "metadata": {
        "id": "709d80be"
      },
      "source": [
        "Importing the data using pandas"
      ]
    },
    {
      "cell_type": "code",
      "execution_count": null,
      "id": "f98f2bc9",
      "metadata": {
        "id": "f98f2bc9",
        "outputId": "e8ce8f62-5150-4e01-8ff0-025b28bb7ae2"
      },
      "outputs": [
        {
          "data": {
            "text/html": [
              "<div>\n",
              "<style scoped>\n",
              "    .dataframe tbody tr th:only-of-type {\n",
              "        vertical-align: middle;\n",
              "    }\n",
              "\n",
              "    .dataframe tbody tr th {\n",
              "        vertical-align: top;\n",
              "    }\n",
              "\n",
              "    .dataframe thead th {\n",
              "        text-align: right;\n",
              "    }\n",
              "</style>\n",
              "<table border=\"1\" class=\"dataframe\">\n",
              "  <thead>\n",
              "    <tr style=\"text-align: right;\">\n",
              "      <th></th>\n",
              "      <th>Hours</th>\n",
              "      <th>Scores</th>\n",
              "    </tr>\n",
              "  </thead>\n",
              "  <tbody>\n",
              "    <tr>\n",
              "      <th>0</th>\n",
              "      <td>2.5</td>\n",
              "      <td>21</td>\n",
              "    </tr>\n",
              "    <tr>\n",
              "      <th>1</th>\n",
              "      <td>5.1</td>\n",
              "      <td>47</td>\n",
              "    </tr>\n",
              "    <tr>\n",
              "      <th>2</th>\n",
              "      <td>3.2</td>\n",
              "      <td>27</td>\n",
              "    </tr>\n",
              "    <tr>\n",
              "      <th>3</th>\n",
              "      <td>8.5</td>\n",
              "      <td>75</td>\n",
              "    </tr>\n",
              "    <tr>\n",
              "      <th>4</th>\n",
              "      <td>3.5</td>\n",
              "      <td>30</td>\n",
              "    </tr>\n",
              "  </tbody>\n",
              "</table>\n",
              "</div>"
            ],
            "text/plain": [
              "   Hours  Scores\n",
              "0    2.5      21\n",
              "1    5.1      47\n",
              "2    3.2      27\n",
              "3    8.5      75\n",
              "4    3.5      30"
            ]
          },
          "execution_count": 3,
          "metadata": {},
          "output_type": "execute_result"
        }
      ],
      "source": [
        "url = \"http://bit.ly/w-data\"\n",
        "data = pd.read_csv(url)\n",
        "data.head(5)"
      ]
    },
    {
      "cell_type": "markdown",
      "id": "e84096ef",
      "metadata": {
        "id": "e84096ef"
      },
      "source": [
        "Plotting the data using matplotlib"
      ]
    },
    {
      "cell_type": "code",
      "execution_count": null,
      "id": "dff825c1",
      "metadata": {
        "id": "dff825c1",
        "outputId": "ed48b868-ec86-44d3-91ef-1383e0a820b1"
      },
      "outputs": [
        {
          "data": {
            "image/png": "[encoded data removed]",
            "text/plain": [
              "<Figure size 432x288 with 1 Axes>"
            ]
          },
          "metadata": {
            "needs_background": "light"
          },
          "output_type": "display_data"
        }
      ],
      "source": [
        "plt.scatter(x=data.Hours,y=data.Scores)\n",
        "plt.title('Hours studied vs Percentage obtained')\n",
        "plt.xlabel(\"Hours studied\")\n",
        "plt.ylabel(\"Percentage obtained\")\n",
        "plt.show()"
      ]
    },
    {
      "cell_type": "markdown",
      "id": "c9a87444",
      "metadata": {
        "id": "c9a87444"
      },
      "source": [
        "Finding mean, standard deviation and percentiles using describe function"
      ]
    },
    {
      "cell_type": "code",
      "execution_count": null,
      "id": "093bb5a5",
      "metadata": {
        "id": "093bb5a5",
        "outputId": "1bb1e4a5-1beb-444a-d887-fb7322159f5a"
      },
      "outputs": [
        {
          "data": {
            "text/html": [
              "<div>\n",
              "<style scoped>\n",
              "    .dataframe tbody tr th:only-of-type {\n",
              "        vertical-align: middle;\n",
              "    }\n",
              "\n",
              "    .dataframe tbody tr th {\n",
              "        vertical-align: top;\n",
              "    }\n",
              "\n",
              "    .dataframe thead th {\n",
              "        text-align: right;\n",
              "    }\n",
              "</style>\n",
              "<table border=\"1\" class=\"dataframe\">\n",
              "  <thead>\n",
              "    <tr style=\"text-align: right;\">\n",
              "      <th></th>\n",
              "      <th>Hours</th>\n",
              "      <th>Scores</th>\n",
              "    </tr>\n",
              "  </thead>\n",
              "  <tbody>\n",
              "    <tr>\n",
              "      <th>count</th>\n",
              "      <td>25.000000</td>\n",
              "      <td>25.000000</td>\n",
              "    </tr>\n",
              "    <tr>\n",
              "      <th>mean</th>\n",
              "      <td>5.012000</td>\n",
              "      <td>51.480000</td>\n",
              "    </tr>\n",
              "    <tr>\n",
              "      <th>std</th>\n",
              "      <td>2.525094</td>\n",
              "      <td>25.286887</td>\n",
              "    </tr>\n",
              "    <tr>\n",
              "      <th>min</th>\n",
              "      <td>1.100000</td>\n",
              "      <td>17.000000</td>\n",
              "    </tr>\n",
              "    <tr>\n",
              "      <th>25%</th>\n",
              "      <td>2.700000</td>\n",
              "      <td>30.000000</td>\n",
              "    </tr>\n",
              "    <tr>\n",
              "      <th>50%</th>\n",
              "      <td>4.800000</td>\n",
              "      <td>47.000000</td>\n",
              "    </tr>\n",
              "    <tr>\n",
              "      <th>75%</th>\n",
              "      <td>7.400000</td>\n",
              "      <td>75.000000</td>\n",
              "    </tr>\n",
              "    <tr>\n",
              "      <th>max</th>\n",
              "      <td>9.200000</td>\n",
              "      <td>95.000000</td>\n",
              "    </tr>\n",
              "  </tbody>\n",
              "</table>\n",
              "</div>"
            ],
            "text/plain": [
              "           Hours     Scores\n",
              "count  25.000000  25.000000\n",
              "mean    5.012000  51.480000\n",
              "std     2.525094  25.286887\n",
              "min     1.100000  17.000000\n",
              "25%     2.700000  30.000000\n",
              "50%     4.800000  47.000000\n",
              "75%     7.400000  75.000000\n",
              "max     9.200000  95.000000"
            ]
          },
          "execution_count": 9,
          "metadata": {},
          "output_type": "execute_result"
        }
      ],
      "source": [
        "data.describe()"
      ]
    },
    {
      "cell_type": "markdown",
      "id": "4cbecbd8",
      "metadata": {
        "id": "4cbecbd8"
      },
      "source": [
        "Checking for any null values"
      ]
    },
    {
      "cell_type": "code",
      "execution_count": null,
      "id": "39a99f60",
      "metadata": {
        "id": "39a99f60",
        "outputId": "8cb335cf-c2e0-4cc2-b30c-76bfac5ea9ee"
      },
      "outputs": [
        {
          "data": {
            "text/plain": [
              "Hours     0\n",
              "Scores    0\n",
              "dtype: int64"
            ]
          },
          "execution_count": 10,
          "metadata": {},
          "output_type": "execute_result"
        }
      ],
      "source": [
        "data.isnull().sum()"
      ]
    },
    {
      "cell_type": "markdown",
      "id": "e46fe64f",
      "metadata": {
        "id": "e46fe64f"
      },
      "source": [
        "We see that there are no values present in the data."
      ]
    },
    {
      "cell_type": "code",
      "execution_count": null,
      "id": "0cc2d736",
      "metadata": {
        "id": "0cc2d736"
      },
      "outputs": [],
      "source": [
        "x = data.iloc[:, :-1].values  \n",
        "y = data.iloc[:, 1].values  "
      ]
    },
    {
      "cell_type": "markdown",
      "id": "b14cfa62",
      "metadata": {
        "id": "b14cfa62"
      },
      "source": [
        "Splitting the data into train and test"
      ]
    },
    {
      "cell_type": "code",
      "execution_count": null,
      "id": "914736b6",
      "metadata": {
        "id": "914736b6"
      },
      "outputs": [],
      "source": [
        "from sklearn.model_selection import train_test_split  \n",
        "x_train,x_test,y_train,y_test = train_test_split(x,y,train_size=0.8,test_size=0.2)"
      ]
    },
    {
      "cell_type": "markdown",
      "id": "c25e86a2",
      "metadata": {
        "id": "c25e86a2"
      },
      "source": [
        "Applying linear regression on x train and y train."
      ]
    },
    {
      "cell_type": "code",
      "execution_count": null,
      "id": "dc4d7cc9",
      "metadata": {
        "id": "dc4d7cc9",
        "outputId": "fe58aecd-69b0-4eb6-99d3-bed48ea16cb8"
      },
      "outputs": [
        {
          "name": "stdout",
          "output_type": "stream",
          "text": [
            "Training Complete\n"
          ]
        }
      ],
      "source": [
        "lr = LinearRegression()\n",
        "lr.fit(x_train,y_train)\n",
        "print(\"Training Complete\")"
      ]
    },
    {
      "cell_type": "markdown",
      "id": "6c9a7283",
      "metadata": {
        "id": "6c9a7283"
      },
      "source": [
        "Plotting the regression line and test data"
      ]
    },
    {
      "cell_type": "code",
      "execution_count": null,
      "id": "b4209c84",
      "metadata": {
        "id": "b4209c84",
        "outputId": "ad06e07d-064a-4a54-96ff-e6990a3aefe1"
      },
      "outputs": [
        {
          "data": {
            "text/plain": [
              "<matplotlib.collections.PathCollection at 0x1da9dec9310>"
            ]
          },
          "execution_count": 18,
          "metadata": {},
          "output_type": "execute_result"
        },
        {
          "data": {
            "image/png": "[encoded data removed]",
            "text/plain": [
              "<Figure size 432x288 with 1 Axes>"
            ]
          },
          "metadata": {
            "needs_background": "light"
          },
          "output_type": "display_data"
        }
      ],
      "source": [
        "line = lr.coef_*x + lr.intercept_\n",
        "plt.plot(x,line)\n",
        "plt.scatter(x,y)"
      ]
    },
    {
      "cell_type": "code",
      "execution_count": null,
      "id": "efb9b0b0",
      "metadata": {
        "id": "efb9b0b0",
        "outputId": "52ce3547-988e-489d-e0e8-0eb5d9f7e581"
      },
      "outputs": [
        {
          "data": {
            "text/html": [
              "<div>\n",
              "<style scoped>\n",
              "    .dataframe tbody tr th:only-of-type {\n",
              "        vertical-align: middle;\n",
              "    }\n",
              "\n",
              "    .dataframe tbody tr th {\n",
              "        vertical-align: top;\n",
              "    }\n",
              "\n",
              "    .dataframe thead th {\n",
              "        text-align: right;\n",
              "    }\n",
              "</style>\n",
              "<table border=\"1\" class=\"dataframe\">\n",
              "  <thead>\n",
              "    <tr style=\"text-align: right;\">\n",
              "      <th></th>\n",
              "      <th>Actual score</th>\n",
              "      <th>Predicted score</th>\n",
              "    </tr>\n",
              "  </thead>\n",
              "  <tbody>\n",
              "    <tr>\n",
              "      <th>0</th>\n",
              "      <td>85</td>\n",
              "      <td>77.757360</td>\n",
              "    </tr>\n",
              "    <tr>\n",
              "      <th>1</th>\n",
              "      <td>81</td>\n",
              "      <td>83.622842</td>\n",
              "    </tr>\n",
              "    <tr>\n",
              "      <th>2</th>\n",
              "      <td>69</td>\n",
              "      <td>74.824618</td>\n",
              "    </tr>\n",
              "    <tr>\n",
              "      <th>3</th>\n",
              "      <td>41</td>\n",
              "      <td>46.474789</td>\n",
              "    </tr>\n",
              "    <tr>\n",
              "      <th>4</th>\n",
              "      <td>88</td>\n",
              "      <td>92.421065</td>\n",
              "    </tr>\n",
              "  </tbody>\n",
              "</table>\n",
              "</div>"
            ],
            "text/plain": [
              "   Actual score  Predicted score\n",
              "0            85        77.757360\n",
              "1            81        83.622842\n",
              "2            69        74.824618\n",
              "3            41        46.474789\n",
              "4            88        92.421065"
            ]
          },
          "execution_count": 49,
          "metadata": {},
          "output_type": "execute_result"
        }
      ],
      "source": [
        "y_pred = lr.predict(x_test)\n",
        "predicted_scores = pd.DataFrame({'Actual score':y_test,'Predicted score':y_pred})\n",
        "predicted_scores"
      ]
    },
    {
      "cell_type": "code",
      "execution_count": null,
      "id": "a7c0a967",
      "metadata": {
        "id": "a7c0a967",
        "outputId": "07b7a62c-3ba8-4869-dc75-e33063f0e0a1"
      },
      "outputs": [
        {
          "name": "stdout",
          "output_type": "stream",
          "text": [
            "Predicted score for studying 9.25 hours is [94.9805969]\n"
          ]
        }
      ],
      "source": [
        "hours = 9.25\n",
        "predictedscore = lr.predict([[hours]])\n",
        "print(f\"Predicted score for studying {hours} hours is {predictedscore}\")"
      ]
    },
    {
      "cell_type": "code",
      "execution_count": null,
      "id": "ca05727c",
      "metadata": {
        "id": "ca05727c"
      },
      "outputs": [],
      "source": [
        "meanAbsoluteError = mean_absolute_error(x_test,y_test)"
      ]
    },
    {
      "cell_type": "code",
      "execution_count": null,
      "id": "feded0ef",
      "metadata": {
        "id": "feded0ef",
        "outputId": "240f3370-1cf0-4c8e-91c2-4535492d0eeb"
      },
      "outputs": [
        {
          "name": "stdout",
          "output_type": "stream",
          "text": [
            "Mean Absolute Error :  39.62\n"
          ]
        }
      ],
      "source": [
        "print(\"Mean Absolute Error : \",meanAbsoluteError)"
      ]
    },
    {
      "cell_type": "code",
      "execution_count": null,
      "id": "db2934d9",
      "metadata": {
        "id": "db2934d9"
      },
      "outputs": [],
      "source": [
        ""
      ]
    }
  ],
  "metadata": {
    "kernelspec": {
      "display_name": "Python 3 (ipykernel)",
      "language": "python",
      "name": "python3"
    },
    "language_info": {
      "codemirror_mode": {
        "name": "ipython",
        "version": 3
      },
      "file_extension": ".py",
      "mimetype": "text/x-python",
      "name": "python",
      "nbconvert_exporter": "python",
      "pygments_lexer": "ipython3",
      "version": "3.9.7"
    },
    "colab": {
      "name": "Solution1_LinearRegression.ipynb",
      "provenance": []
    }
  },
  "nbformat": 4,
  "nbformat_minor": 5
}